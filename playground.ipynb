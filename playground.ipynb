{
 "cells": [
  {
   "attachments": {},
   "cell_type": "markdown",
   "metadata": {},
   "source": [
    "### Instruksi:\n",
    "1. Buka buku Learn Python 3 The Hard Way.\n",
    "2. Di bawah ini ada Example dari beberapa Bab yang memuat Operator.\n",
    "3. Silakan kalian bisa latihan dengan melakukan dari yang diinstruksikan pada bagian \"Study Drill\" yang ada di bawah Example\n",
    "4. Bisa dibaca-baca bukunya agar mendapatkan wawasan lebih dari apa yang asisten berikan"
   ]
  },
  {
   "attachments": {},
   "cell_type": "markdown",
   "metadata": {},
   "source": [
    " "
   ]
  },
  {
   "attachments": {},
   "cell_type": "markdown",
   "metadata": {},
   "source": [
    "3: Numbers and Math"
   ]
  },
  {
   "cell_type": "code",
   "execution_count": null,
   "metadata": {},
   "outputs": [],
   "source": [
    "# ex3: Numbers and Math\n",
    "\n",
    "print(\"I will now count my chickens:\")\n",
    "\n",
    "print(\"Hens\", 25 + 30 / 6)\n",
    "print(\"Roosters\", 100 -25 * 3 % 4)\n",
    "\n",
    "print(\"Now I will count the eggs:\")\n",
    "\n",
    "print(3 + 2 + 1 - 5 + 4 % 2 - 1 / 4 + 6)\n",
    "\n",
    "print(\"Is it true that 3 + 2 < 5 - 7?\")\n",
    "\n",
    "print(3 + 2 < 5 - 7)\n",
    "\n",
    "print(\"What is 3 + 2?\", 3 + 2)\n",
    "\n",
    "print(\"What is 5 - 7?\", 5 - 7)\n",
    "\n",
    "print(\"Oh, that's why it's False.\")\n",
    "\n",
    "print(\"How about some more.\")\n",
    "\n",
    "print(\"Is it greater?\", 5 > -2)\n",
    "print(\"Is it greater or equal?\", 5 >= -2)\n",
    "print(\"Is it less or equal?\", 5 <= -2)"
   ]
  },
  {
   "cell_type": "code",
   "execution_count": null,
   "metadata": {},
   "outputs": [],
   "source": [
    "# Kerjakan Study Drill 3) di sini\n",
    "\n",
    "# mengeluarkan output Kalimat \"I will now count my chickens:\"\n",
    "print(\"I will now count my chickens:\")\n",
    "\n",
    "# Menghitung dan mengeluarkan output jumlah dari Ayam Betina\n",
    "print(\"Hens\", 25 + 30 / 6)\n",
    "\n",
    "# Menghitung dan mengeluarkan output jumlah dari Ayam Jantan\n",
    "print(\"Roosters\", 100 - 25 * 3 % 4)\n",
    "\n",
    "# mengeluarkan output kalimat \"Now I will count the eggs:\"\n",
    "print(\"Now I will count the eggs:\")\n",
    "\n",
    "# Menghitung jumlah telur Ayam dan mengeluarkan output hasilnya\n",
    "print(3 + 2 + 1 - 5 + 4 % 2 - 1 / 4 + 6)\n",
    "\n",
    "# mengeluarkan output pertanyaan \"Is it true that 3 + 2 < 5 - 7?\"\n",
    "print(\"Is it true that 3 + 2 < 5 - 7?\")\n",
    "\n",
    "# Menghitung dan mengeluarkan output nilai perhitungan 3 + 2 < 5 - 7 sebagai jawaban pertanyaan diatas\n",
    "print(3 + 2 < 5 - 7)\n",
    "\n",
    "# Menghitung dan mengeluarkan output hasil dari 3 + 2\n",
    "print(\"What is 3 + 2?\", 3 + 2)\n",
    "\n",
    "# Menghitung dan mengeluarkan output hasil dari 5 - 7\n",
    "print(\"What is 5 - 7?\", 5 - 7)\n",
    "\n",
    "# mengeluarkan output \"Oh, that's why it's False.\"\n",
    "print(\"Oh, that's why it's False.\")\n",
    "\n",
    "# mengeluarkan output pernyataan \"How about some more.\"\n",
    "print(\"How about some more.\")\n",
    "\n",
    "# mengeluarkan output pertanyaan \"Is it greater?\" untuk 5 > -2 dan jawabannya TRUE\n",
    "print(\"Is it greater?\", 5 > -2)\n",
    "\n",
    "# mengeluarkan output pertanyaan \"Is it greater or equal?\" untuk 5 >= -2 dan jawabannya TRUE\n",
    "print(\"Is it greater or equal?\", 5 >= -2)\n",
    "\n",
    "# mengeluarkan output pertanyaan \"Is it less or equal?\" untuk 5 <= -2 dan jawabannya FALSE\n",
    "print(\"Is it less or equal?\", 5 <= -2)\n"
   ]
  },
  {
   "attachments": {},
   "cell_type": "markdown",
   "metadata": {},
   "source": [
    "4: Variables and Names"
   ]
  },
  {
   "cell_type": "code",
   "execution_count": null,
   "metadata": {},
   "outputs": [],
   "source": [
    "cars = 100\n",
    "space_in_a_car = 4.0\n",
    "drivers = 30\n",
    "passengers = 90\n",
    "cars_not_driven = cars - drivers\n",
    "cars_driven = drivers\n",
    "carpool_capacity = cars_driven * space_in_a_car\n",
    "average_passengers_per_car = passengers / cars_driven\n",
    "\n",
    "print(\"There are\", cars, \"cars available.\")\n",
    "print(\"There are only\", drivers, \"drivers available.\")\n",
    "print(\"There will be\", cars_not_driven, \"empty cars today.\")\n",
    "print(\"We can transport\", carpool_capacity, \"people today.\")\n",
    "print(\"We have\", passengers, \"to carpool today.\")\n",
    "print(\"We need to put about\", average_passengers_per_car, \"in each car.\")"
   ]
  },
  {
   "cell_type": "code",
   "execution_count": null,
   "metadata": {},
   "outputs": [],
   "source": [
    "# Kerjakan Study Drill 4) di sini\n",
    "\n",
    "# Menyatankan variable cars berjumlah 100\n",
    "cars = 100\n",
    "\n",
    "# Menyatankan variable space in a car berjumlah 4\n",
    "space_in_a_car = 4.0\n",
    "\n",
    "# Menyatankan variable drivers berjumlah 30\n",
    "drivers = 30\n",
    "\n",
    "# Menyatankan variable passengers berjumlah 90\n",
    "passengers = 90\n",
    "\n",
    "# Menyatankan variable cars not driven = jumlah variable cars dikurang jumlah variable drivers\n",
    "cars_not_driven = cars - drivers\n",
    "\n",
    "# Menyatankan variable cars driven berjumlah sama dengan jumlah variable drivers\n",
    "cars_driven = drivers\n",
    "\n",
    "# Menyatankan carpool capacity berjumlah sama dengan jumlah variable cars driven  * jumlah space in a car\n",
    "carpool_capacity = cars_driven * space_in_a_car\n",
    "\n",
    "# Menyatankan average passengers per car berjumlah sama dengan jumlah variable passengers dibagi jumlah variable car driven\n",
    "average_passengers_per_car = passengers / cars_driven\n",
    "\n",
    "# mengeluarkan output jumlah cars yang tersedia\n",
    "print(\"There are\", cars, \"cars available.\")\n",
    "\n",
    "# mengeluarkan output jumlah drivers yang tersedia\n",
    "print(\"There are only\", drivers, \"drivers available.\")\n",
    "\n",
    "# mengeluarkan output jumlah cars no driven\n",
    "print(\"There will be\", cars_not_driven, \"empty cars today.\")\n",
    "\n",
    "# mengeluarkan output jumlah carpool capasity yang tersedia\n",
    "print(\"We can transport\", carpool_capacity, \"people today.\")\n",
    "\n",
    "# mengeluarkan output jumlah passengers pada hari ini\n",
    "print(\"We have\", passengers, \"to carpool today.\")\n",
    "\n",
    "# mengeluarkan output average passengers per car pada setiap mobil\n",
    "print(\"We need to put about\", average_passengers_per_car, \"in each car.\")\n"
   ]
  },
  {
   "attachments": {},
   "cell_type": "markdown",
   "metadata": {},
   "source": [
    "### Instruksi:\n",
    "1. Tulis ulang kode contoh di atasnya dengan sebelumnya artikan dengan command (#)"
   ]
  },
  {
   "attachments": {},
   "cell_type": "markdown",
   "metadata": {},
   "source": [
    "Contoh\n",
    "\n",
    "Tulis program Python yang dapat menghitung luas dari Lingkaran dengan jari-jari yang diinput!"
   ]
  },
  {
   "cell_type": "code",
   "execution_count": null,
   "metadata": {},
   "outputs": [],
   "source": [
    "from math import pi\n",
    "r = float(input (\"Input the radius of the circle : \"))\n",
    "print (\"The area of the circle with radius \" + str(r) + \" is: \" + str(pi * r**2))"
   ]
  },
  {
   "cell_type": "code",
   "execution_count": null,
   "metadata": {},
   "outputs": [],
   "source": [
    "# import pi dari math library\n",
    "from math import pi\n",
    "\n",
    "# membuat variabel untuk user menginputkan nilai jari-jari\n",
    "r = float(input (\"Masukkan jari-jari lingkaran: \"))\n",
    "\n",
    "# Mem-print nilai luas lingkaran sekaligus menghitungnya\n",
    "print (\"Luas lingkaran dengan jari-jari \" + str(r) + \" adalah: \" + str(pi * r**2))"
   ]
  },
  {
   "attachments": {},
   "cell_type": "markdown",
   "metadata": {},
   "source": [
    "5: Tulis program Python untuk tambah, kurang, kali, dan bagi dari dua buah pecahan"
   ]
  },
  {
   "cell_type": "code",
   "execution_count": null,
   "metadata": {},
   "outputs": [],
   "source": [
    "import fractions\n",
    "\n",
    "f1 = fractions.Fraction(2, 3)\n",
    "f2 = fractions.Fraction(3, 7)\n",
    "\n",
    "print('{} + {} = {}'.format(f1, f2, f1 + f2))\n",
    "print('{} - {} = {}'.format(f1, f2, f1 - f2))\n",
    "print('{} * {} = {}'.format(f1, f2, f1 * f2))\n",
    "print('{} / {} = {}'.format(f1, f2, f1 / f2))"
   ]
  },
  {
   "cell_type": "code",
   "execution_count": null,
   "metadata": {},
   "outputs": [],
   "source": [
    "# Kerjakan Study Drill 5 di sini\n",
    "\n",
    "# import fractions\n",
    "import fractions\n",
    "\n",
    "# Menyatakan bahwa f1 adalah pecahan dari 2 / 3\n",
    "f1 = fractions.Fraction(2, 3)\n",
    "# Menyatakan bahwa f2 adalah pecahan dari 3 / 7\n",
    "f2 = fractions.Fraction(3, 7)\n",
    "\n",
    "# mengeluarkan output nilai penjumlahan dari f1 + f2 dan menghitungnya\n",
    "print('{} + {} = {}'.format(f1, f2, f1 + f2))\n",
    "# mengeluarkan output nilai pengurangan dari f1 - f2 dan menghitungnya\n",
    "print('{} - {} = {}'.format(f1, f2, f1 - f2))\n",
    "# mengeluarkan output nilai perkalian dari f1 * f2 dan menghitungnya\n",
    "print('{} * {} = {}'.format(f1, f2, f1 * f2))\n",
    "# mengeluarkan output nilai pembagian dari f1 / f2 dan menghitungnya\n",
    "print('{} / {} = {}'.format(f1, f2, f1 / f2))\n"
   ]
  },
  {
   "attachments": {},
   "cell_type": "markdown",
   "metadata": {},
   "source": [
    "6: Tulis program Python yang akan menghitung luas dari segitiga dengan alas dan tinggi yang kamu inputkan!"
   ]
  },
  {
   "cell_type": "code",
   "execution_count": null,
   "metadata": {},
   "outputs": [],
   "source": [
    "b = int(input(\"Input alas : \"))\n",
    "h = int(input(\"Input tinggi : \"))\n",
    "\n",
    "luas = b*h/2\n",
    "\n",
    "print(\"luas = \", luas)"
   ]
  },
  {
   "cell_type": "code",
   "execution_count": null,
   "metadata": {},
   "outputs": [],
   "source": [
    "# Kerjakan Study Drill 6 di sini\n",
    "\n",
    "# Membuat variable penginputan alas segitiga bagi user dalam tipe data integer\n",
    "b = int(input(\"Input alas : \"))\n",
    "# Membuat variable penginputan tinggi segitiga bagi user dalam tipe data integer\n",
    "h = int(input(\"Input tinggi : \"))\n",
    "\n",
    "# Menghitung luas segitiga dengan rumusnya: alas * tinggi / 2\n",
    "luas = b*h/2\n",
    "\n",
    "# mengeluarkan output nilai luas segitiga\n",
    "print(\"luas = \", luas)\n"
   ]
  },
  {
   "attachments": {},
   "cell_type": "markdown",
   "metadata": {},
   "source": [
    "7: Tulis program Python yang dapat menghitung luas permukaan dan volume dari Tabung!"
   ]
  },
  {
   "cell_type": "code",
   "execution_count": null,
   "metadata": {},
   "outputs": [],
   "source": [
    "pi=22/7\n",
    "tinggi = float(input('Tinggi dari Tabung: '))\n",
    "jarijari = float(input('Jari-jari dari Tabung: '))\n",
    "volume = pi * jarijari * jarijari * tinggi\n",
    "lp = ((2*pi*jarijari) * tinggi) + ((pi*jarijari**2)*2)\n",
    "print(\"Volume tabung adalah: \", volume)\n",
    "print(\"Luas permukaan tabung adalah: \", lp)"
   ]
  },
  {
   "cell_type": "code",
   "execution_count": null,
   "metadata": {},
   "outputs": [],
   "source": [
    "# Kerjakan Study Drill 7 di sini\n",
    "\n",
    "# Menyatakan variable pi dengan nilai 22 /7\n",
    "pi = 22/7\n",
    "\n",
    "# Membuat variable penginputan tinggi tabung bagi user dalam tipe data float\n",
    "tinggi = float(input('Tinggi dari Tabung: '))\n",
    "# Membuat variable penginputan jari-jari tabung bagi user dalam tipe data float\n",
    "jarijari = float(input('Jari-jari dari Tabung: '))\n",
    "# Menghitung volume tabung dengan rumusnya: pi * jari-jari * jari-jari * tinggi\n",
    "volume = pi * jarijari * jarijari * tinggi\n",
    "# Menghitung luas permukaan tabung dengan rumusnya: ((2*pi*jarijari) * tinggi) + ((pi*jarijari**2)*2)\n",
    "lp = ((2*pi*jarijari) * tinggi) + ((pi*jarijari**2)*2)\n",
    "# mengeluarkan output nilai volume tabung\n",
    "print(\"Volume tabung adalah: \", volume)\n",
    "# mengeluarkan output nilai luas permukaan tabung\n",
    "print(\"Luas permukaan tabung adalah: \", lp)\n"
   ]
  },
  {
   "attachments": {},
   "cell_type": "markdown",
   "metadata": {},
   "source": [
    "8: Tulis program Python untuk mendapatkan akar pangkat dua dan pangkat dari nilai desimal yang diberikan!"
   ]
  },
  {
   "cell_type": "code",
   "execution_count": null,
   "metadata": {},
   "outputs": [],
   "source": [
    "from decimal import *\n",
    "x = Decimal('1.44')\n",
    "print(\"Akar pangkat dua dari\",x, \"adalah :\", x.sqrt())\n",
    "print(\"Pangkat dua dari\",x, \" adalah :\", x.exp())\n"
   ]
  },
  {
   "cell_type": "code",
   "execution_count": null,
   "metadata": {},
   "outputs": [],
   "source": [
    "# Kerjakan Study Drill 8 di sini\n",
    "\n",
    "#Meng-import* dari decimal\n",
    "from decimal import *\n",
    "#Menyatakan bentuk decimal dari variable x= 1.44 \n",
    "x = Decimal('1.44')\n",
    "#Menghitung dan mengeluarkan output nilai dari akar pangkat dua dari x\n",
    "print(\"Akar pangkat dua dari\",x, \"adalah :\", x.sqrt())\n",
    "#Menghitung dan mengeluarkan output nilai dari pangkat dua dari x\n",
    "print(\"Pangkat dua dari\",x, \" adalah :\", x.exp())"
   ]
  },
  {
   "attachments": {},
   "cell_type": "markdown",
   "metadata": {},
   "source": [
    "9: Tulis program Python yang dapat menentukan apakah benar bilangan tersebut LEBIH BESAR dari 4^4 DAN jika di-MODULUS-kan 34 hasilnya adalah 4!"
   ]
  },
  {
   "cell_type": "code",
   "execution_count": null,
   "metadata": {},
   "outputs": [],
   "source": [
    "def test(n):\n",
    "    return n % 34 == 4 and n > 4 ** 4\n",
    "\n",
    "n = 922\n",
    "print(\"Original Integer:\")\n",
    "print(n)\n",
    "print(\"Apakah benar integer tersebut lebih besar dari 4^4 dan hasilnya 4 jika di-mod-kan dengan 34:\")\n",
    "\n",
    "print(test(n))\n",
    "\n",
    "n = 914\n",
    "print(\"\\nOriginal Integer:\")\n",
    "print(n)\n",
    "print(\"Apakah benar integer tersebut lebih besar dari 4^4 dan hasilnya 4 jika di-mod-kan dengan 34:\")\n",
    "print(test(n))\n",
    "\n",
    "n = 854\n",
    "print(\"\\nOriginal Integer:\")\n",
    "print(n)\n",
    "print(\"Apakah benar integer tersebut lebih besar dari 4^4 dan hasilnya 4 jika di-mod-kan dengan 34:\")\n",
    "print(test(n))"
   ]
  },
  {
   "cell_type": "code",
   "execution_count": null,
   "metadata": {},
   "outputs": [],
   "source": [
    "# Kerjakan Study Drill 9 di sini\n",
    "# Kalian bisa coba membuktikan dengan menghitung hasil dari 4^4 dan mod 34 dari bilangan integernya\n",
    "\n",
    "\n",
    "# Mendefinisikan fungsi test apa bila dimasukan n\n",
    "def test(n):\n",
    "    # Meng-test apakah jika n dimodulo 34 akan sama dengan 4 dan n apakah lebih besar dari 4 pangkat 4 serta mereturn saat digunakan\n",
    "    return n % 34 == 4 and n > 4 ** 4\n",
    "\n",
    "\n",
    "# Menyatakan nilai variable n sama dengan 922\n",
    "n = 922\n",
    "# mengeluarkan output pernyataan Original Integer:\n",
    "print(\"Original Integer:\")\n",
    "# mengeluarkan output nilai variabel n\n",
    "print(n)\n",
    "# mengeluarkan output dan menanyakan Apakah benar integer tersebut lebih besar dari 4^4 dan hasilnya 4 jika di-mod-kan dengan 34:\n",
    "print(\"Apakah benar integer tersebut lebih besar dari 4^4 dan hasilnya 4 jika di-mod-kan dengan 34:\")\n",
    "# mengeluarkan output hasil test menggunakan variable n= 922\n",
    "print(test(n))\n",
    "\n",
    "# Menyatakan nilai variable n sama dengan 914\n",
    "n = 914\n",
    "# mengeluarkan output pernyataan Original Integer:\n",
    "print(\"\\nOriginal Integer:\")\n",
    "# mengeluarkan output nilai variabel n\n",
    "print(n)\n",
    "# mengeluarkan output dan menanyakan Apakah benar integer tersebut lebih besar dari 4^4 dan hasilnya 4 jika di-mod-kan dengan 34:\n",
    "print(\"Apakah benar integer tersebut lebih besar dari 4^4 dan hasilnya 4 jika di-mod-kan dengan 34:\")\n",
    "# mengeluarkan output hasil test menggunakan variable n= 914\n",
    "print(test(n))\n",
    "\n",
    "# Menyatakan nilai variable n sama dengan 854\n",
    "n = 854\n",
    "# mengeluarkan output pernyataan Original Integer:\n",
    "print(\"\\nOriginal Integer:\")\n",
    "# mengeluarkan output nilai variabel n\n",
    "print(n)\n",
    "# mengeluarkan output dan menanyakan Apakah benar integer tersebut lebih besar dari 4^4 dan hasilnya 4 jika di-mod-kan dengan 34:\n",
    "print(\"Apakah benar integer tersebut lebih besar dari 4^4 dan hasilnya 4 jika di-mod-kan dengan 34:\")\n",
    "# mengeluarkan output hasil test menggunakan variable n= 854\n",
    "print(test(n))\n"
   ]
  },
  {
   "attachments": {},
   "cell_type": "markdown",
   "metadata": {},
   "source": [
    "10: Tulis program Python yang dapat menyimpan nama depan dan nama belakang user dan mem-print-nya dengan dibalik antara keduanya!\n"
   ]
  },
  {
   "cell_type": "code",
   "execution_count": null,
   "metadata": {},
   "outputs": [],
   "source": [
    "fname = input(\"Input your First Name : \")\n",
    "lname = input(\"Input your Last Name : \")\n",
    "print (\"Hello  \" + lname + \" \" + fname)"
   ]
  },
  {
   "cell_type": "code",
   "execution_count": null,
   "metadata": {},
   "outputs": [],
   "source": [
    "# Kerjakan Study Drill 10 di sini\n",
    "# Kerjakan Study Drill 10 di sini\n",
    "\n",
    "# Membuat variable penginputan nama depan bagi user\n",
    "fname = input(\"Input your First Name : \")\n",
    "# Membuat variable penginputan nama belakang bagi user\n",
    "lname = input(\"Input your Last Name : \")\n",
    "# mengeluarkan output nama user dengan format halo lalu nama belakang kemudian nama depan\n",
    "print(\"Hello  \" + lname + \" \" + fname)\n"
   ]
  }
 ],
 "metadata": {
  "kernelspec": {
   "display_name": "Python 3",
   "language": "python",
   "name": "python3"
  },
  "language_info": {
   "codemirror_mode": {
    "name": "ipython",
    "version": 3
   },
   "file_extension": ".py",
   "mimetype": "text/x-python",
   "name": "python",
   "nbconvert_exporter": "python",
   "pygments_lexer": "ipython3",
   "version": "3.9.1"
  },
  "orig_nbformat": 4
 },
 "nbformat": 4,
 "nbformat_minor": 2
}
